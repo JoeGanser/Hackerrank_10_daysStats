{
 "cells": [
  {
   "cell_type": "code",
   "execution_count": null,
   "metadata": {},
   "outputs": [],
   "source": [
    "N = list(map(int,input().split()))\n",
    "M = int(input())\n",
    "p=N[0]/N[1]\n",
    "q=1-p\n",
    "\n",
    "probs = []\n",
    "for i in range(1,M+1):\n",
    "    probs.append(p*(q**(i-1)))\n",
    "\n",
    "probability = round(sum(probs),3)\n",
    "print(probability)\n",
    "\n"
   ]
  }
 ],
 "metadata": {
  "kernelspec": {
   "display_name": "Python 3",
   "language": "python",
   "name": "python3"
  },
  "language_info": {
   "codemirror_mode": {
    "name": "ipython",
    "version": 3
   },
   "file_extension": ".py",
   "mimetype": "text/x-python",
   "name": "python",
   "nbconvert_exporter": "python",
   "pygments_lexer": "ipython3",
   "version": "3.6.4"
  }
 },
 "nbformat": 4,
 "nbformat_minor": 2
}
