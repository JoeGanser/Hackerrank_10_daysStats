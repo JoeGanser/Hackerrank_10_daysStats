{
 "cells": [
  {
   "cell_type": "code",
   "execution_count": null,
   "metadata": {},
   "outputs": [],
   "source": [
    "max_weight = int(input())\n",
    "n = int(input())\n",
    "mean = float(input())\n",
    "pop_std = float(input())\n",
    "\n",
    "\n",
    "X = max_weight/float(n)\n",
    "\n",
    "Z_score = (X-mean)/(pop_std/(n**(0.5)))\n",
    "\n",
    "import math\n",
    "cdf = (1 + math.erf(Z_score/(2**0.5)))/2\n",
    "prob = round(cdf,4)\n",
    "\n",
    "print(prob)\n",
    "\n"
   ]
  }
 ],
 "metadata": {
  "kernelspec": {
   "display_name": "Python 3",
   "language": "python",
   "name": "python3"
  },
  "language_info": {
   "codemirror_mode": {
    "name": "ipython",
    "version": 3
   },
   "file_extension": ".py",
   "mimetype": "text/x-python",
   "name": "python",
   "nbconvert_exporter": "python",
   "pygments_lexer": "ipython3",
   "version": "3.6.4"
  }
 },
 "nbformat": 4,
 "nbformat_minor": 2
}
