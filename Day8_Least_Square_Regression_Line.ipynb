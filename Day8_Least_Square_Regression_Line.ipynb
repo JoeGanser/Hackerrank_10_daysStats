{
 "cells": [
  {
   "cell_type": "code",
   "execution_count": null,
   "metadata": {},
   "outputs": [],
   "source": [
    "x,y=[],[]\n",
    "for i in range(5):\n",
    "    student = [int(i) for i in input().split()]\n",
    "    x+=[student[0]]\n",
    "    y+=[student[1]]\n",
    "\n",
    "mean_x = sum(x)/5\n",
    "mean_y=sum(y)/5\n",
    "\n",
    "x_squared,xy = sum([x[i]*x[i] for i in range(5)]),sum([x[i]*y[i] for i in range(5)])\n",
    "\n",
    "b= (5*xy - sum(x)*sum(y))/(5*x_squared - sum(x)**2)\n",
    "a = mean_y - b*mean_x\n",
    "\n",
    "print(round(a+b*80,3))"
   ]
  }
 ],
 "metadata": {
  "kernelspec": {
   "display_name": "Python 3",
   "language": "python",
   "name": "python3"
  },
  "language_info": {
   "codemirror_mode": {
    "name": "ipython",
    "version": 3
   },
   "file_extension": ".py",
   "mimetype": "text/x-python",
   "name": "python",
   "nbconvert_exporter": "python",
   "pygments_lexer": "ipython3",
   "version": "3.6.4"
  }
 },
 "nbformat": 4,
 "nbformat_minor": 2
}
