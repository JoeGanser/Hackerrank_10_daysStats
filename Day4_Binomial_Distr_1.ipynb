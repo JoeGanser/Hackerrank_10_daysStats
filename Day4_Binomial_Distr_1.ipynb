{
 "cells": [
  {
   "cell_type": "code",
   "execution_count": 3,
   "metadata": {},
   "outputs": [],
   "source": [
    "P = 1-(1/2.09)\n",
    "\n",
    "def bernoulli_distribution(p,n,x):\n",
    "    def combinatoric(n,x):\n",
    "        def factorial(n):\n",
    "            if n == 0:\n",
    "                return 1\n",
    "            else:\n",
    "                return n * factorial(n-1)\n",
    "        top = factorial(n)\n",
    "        bottom = factorial(x) * factorial(n-x)\n",
    "        return top/bottom\n",
    "    \n",
    "    def binomial(p,n,x):\n",
    "        return (p**x)*(1-p)**(n-x)\n",
    "    return combinatoric(n,x)*binomial(p,n,x)"
   ]
  },
  {
   "cell_type": "code",
   "execution_count": 17,
   "metadata": {},
   "outputs": [],
   "source": [
    "def bernoulli_trials_atleast_x(p,n,x):\n",
    "    def bernoulli_distribution(p,n,x):\n",
    "        def combinatoric(n,x):\n",
    "            def factorial(n):\n",
    "                if n == 0:\n",
    "                    return 1\n",
    "                else:\n",
    "                    return n * factorial(n-1)\n",
    "            top = factorial(n)\n",
    "            bottom = factorial(x) * factorial(n-x)\n",
    "            return top/bottom\n",
    "    \n",
    "        def binomial(p,n,x):\n",
    "            return (p**x)*(1-p)**(n-x)\n",
    "        return combinatoric(n,x)*binomial(p,n,x)\n",
    "    probabilities = []\n",
    "    for i in range(x,n+1):\n",
    "        probabilities.append(bernoulli_distribution(p,n,i))\n",
    "    return round(sum(probabilities),3)"
   ]
  },
  {
   "cell_type": "code",
   "execution_count": 18,
   "metadata": {},
   "outputs": [
    {
     "data": {
      "text/plain": [
       "0.679"
      ]
     },
     "execution_count": 18,
     "metadata": {},
     "output_type": "execute_result"
    }
   ],
   "source": [
    "bernoulli_trials_atleast_x(0.5125,6,3)"
   ]
  },
  {
   "cell_type": "code",
   "execution_count": 14,
   "metadata": {},
   "outputs": [
    {
     "data": {
      "text/plain": [
       "0.5215311004784688"
      ]
     },
     "execution_count": 14,
     "metadata": {},
     "output_type": "execute_result"
    }
   ],
   "source": [
    "P = 1-(1/2.09)\n",
    "P\n"
   ]
  },
  {
   "cell_type": "code",
   "execution_count": 19,
   "metadata": {},
   "outputs": [
    {
     "data": {
      "text/plain": [
       "0.696"
      ]
     },
     "execution_count": 19,
     "metadata": {},
     "output_type": "execute_result"
    }
   ],
   "source": [
    "bernoulli_trials_atleast_x(P,6,3)"
   ]
  },
  {
   "cell_type": "code",
   "execution_count": 16,
   "metadata": {},
   "outputs": [
    {
     "data": {
      "text/plain": [
       "0.696"
      ]
     },
     "execution_count": 16,
     "metadata": {},
     "output_type": "execute_result"
    }
   ],
   "source": [
    "round(bernoulli_trials_atleast_x(P,6,3),3)"
   ]
  },
  {
   "cell_type": "code",
   "execution_count": null,
   "metadata": {},
   "outputs": [],
   "source": []
  }
 ],
 "metadata": {
  "kernelspec": {
   "display_name": "Python 3",
   "language": "python",
   "name": "python3"
  },
  "language_info": {
   "codemirror_mode": {
    "name": "ipython",
    "version": 3
   },
   "file_extension": ".py",
   "mimetype": "text/x-python",
   "name": "python",
   "nbconvert_exporter": "python",
   "pygments_lexer": "ipython3",
   "version": "3.6.4"
  }
 },
 "nbformat": 4,
 "nbformat_minor": 2
}
