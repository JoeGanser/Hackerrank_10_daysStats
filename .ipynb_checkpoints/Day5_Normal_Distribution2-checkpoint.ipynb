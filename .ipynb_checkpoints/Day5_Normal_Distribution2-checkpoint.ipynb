{
 "cells": [
  {
   "cell_type": "code",
   "execution_count": null,
   "metadata": {},
   "outputs": [],
   "source": [
    "mean, std = list(map(float,input().split()))\n",
    "problem_one = float(input())\n",
    "problem_two = float(input())\n",
    "import math\n",
    "\n",
    "\n",
    "cdf = lambda x: 0.5 * (1 + math.erf((x - mean) / (std * (2 ** 0.5))))\n",
    "\n",
    "print('{:.2f}'.format(100*(1-cdf(problem_one))))\n",
    "\n",
    "print('{:.2f}'.format(100*(1-cdf(problem_two))))\n",
    "\n",
    "print('{:.2f}'.format(100*(cdf(problem_two))))"
   ]
  }
 ],
 "metadata": {
  "kernelspec": {
   "display_name": "Python 3",
   "language": "python",
   "name": "python3"
  },
  "language_info": {
   "codemirror_mode": {
    "name": "ipython",
    "version": 3
   },
   "file_extension": ".py",
   "mimetype": "text/x-python",
   "name": "python",
   "nbconvert_exporter": "python",
   "pygments_lexer": "ipython3",
   "version": "3.6.4"
  }
 },
 "nbformat": 4,
 "nbformat_minor": 2
}
