{
 "cells": [
  {
   "cell_type": "code",
   "execution_count": null,
   "metadata": {},
   "outputs": [],
   "source": [
    "n = int(input())\n",
    "mean = float(input())\n",
    "std = float(input())\n",
    "confidence = float(input())\n",
    "Zscore = float(input())\n",
    "\n",
    "A = mean - Zscore*(std/(n**0.5))\n",
    "B = mean + Zscore*(std/(n**0.5))\n",
    "\n",
    "print(round(A,2))\n",
    "print(round(B,2))"
   ]
  }
 ],
 "metadata": {
  "kernelspec": {
   "display_name": "Python 3",
   "language": "python",
   "name": "python3"
  },
  "language_info": {
   "codemirror_mode": {
    "name": "ipython",
    "version": 3
   },
   "file_extension": ".py",
   "mimetype": "text/x-python",
   "name": "python",
   "nbconvert_exporter": "python",
   "pygments_lexer": "ipython3",
   "version": "3.6.4"
  }
 },
 "nbformat": 4,
 "nbformat_minor": 2
}
