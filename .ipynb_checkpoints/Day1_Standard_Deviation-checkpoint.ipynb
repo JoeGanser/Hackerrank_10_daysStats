{
 "cells": [
  {
   "cell_type": "code",
   "execution_count": null,
   "metadata": {},
   "outputs": [],
   "source": [
    "n = int(input().strip())\n",
    "X = [int(x) for x in input().strip().split()]\n",
    "\n",
    "mean = sum(X) / n\n",
    "variance = sum([((x - mean) ** 2) for x in X]) / n\n",
    "stddev = variance ** 0.5\n",
    "\n",
    "print(\"{0:0.1f}\".format(stddev))"
   ]
  }
 ],
 "metadata": {
  "kernelspec": {
   "display_name": "Python 3",
   "language": "python",
   "name": "python3"
  },
  "language_info": {
   "codemirror_mode": {
    "name": "ipython",
    "version": 3
   },
   "file_extension": ".py",
   "mimetype": "text/x-python",
   "name": "python",
   "nbconvert_exporter": "python",
   "pygments_lexer": "ipython3",
   "version": "3.6.4"
  }
 },
 "nbformat": 4,
 "nbformat_minor": 2
}
