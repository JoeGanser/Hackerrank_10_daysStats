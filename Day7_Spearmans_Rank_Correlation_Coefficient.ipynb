{
 "cells": [
  {
   "cell_type": "code",
   "execution_count": null,
   "metadata": {},
   "outputs": [],
   "source": [
    "N = int(input())\n",
    "X = list(map(float, input().split()))\n",
    "Y = list(map(float, input().split()))\n",
    "\n",
    "def rank(x):\n",
    "    l = []\n",
    "    for index,i in enumerate((sorted(x))):\n",
    "        l.append((index,i))\n",
    "    k = []\n",
    "    for i in x:\n",
    "        for j in l:\n",
    "            if j[1] == i:\n",
    "                k.append(j[0])\n",
    "    return k\n",
    "\n",
    "rankX = rank(X)\n",
    "rankY = rank(Y)\n",
    "def d2(a,b):\n",
    "    return (a-b)**2\n",
    "\n",
    "sumd2 = sum([d2(x,y) for index,x in enumerate(rankX) for INDEX,y in enumerate(rankY) if index==INDEX])\n",
    "\n",
    "r = 1 - 6*sumd2/((N*(N**2)-1))\n",
    "print(round(r,3))"
   ]
  }
 ],
 "metadata": {
  "kernelspec": {
   "display_name": "Python 3",
   "language": "python",
   "name": "python3"
  },
  "language_info": {
   "codemirror_mode": {
    "name": "ipython",
    "version": 3
   },
   "file_extension": ".py",
   "mimetype": "text/x-python",
   "name": "python",
   "nbconvert_exporter": "python",
   "pygments_lexer": "ipython3",
   "version": "3.6.4"
  }
 },
 "nbformat": 4,
 "nbformat_minor": 2
}
