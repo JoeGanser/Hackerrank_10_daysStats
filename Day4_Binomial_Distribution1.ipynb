{
 "cells": [
  {
   "cell_type": "code",
   "execution_count": null,
   "metadata": {},
   "outputs": [],
   "source": [
    "\n",
    "P = 1-(1/2.09)\n",
    "# atleast 3 boys out of families of 6\n",
    "\n",
    "import math\n",
    "\n",
    "def bi_dist(x, n, p):\n",
    "    b = (math.factorial(n)/(math.factorial(x)*math.factorial(n-x)))*(p**x)*((1-p)**(n-x))\n",
    "    return(b)\n",
    "\n",
    "b, p, n = 0, 1.09/2.09, 6\n",
    "for i in range(3,7):\n",
    "    b += bi_dist(i, n, p)   \n",
    "print(\"%.3f\" %b)"
   ]
  }
 ],
 "metadata": {
  "kernelspec": {
   "display_name": "Python 3",
   "language": "python",
   "name": "python3"
  },
  "language_info": {
   "codemirror_mode": {
    "name": "ipython",
    "version": 3
   },
   "file_extension": ".py",
   "mimetype": "text/x-python",
   "name": "python",
   "nbconvert_exporter": "python",
   "pygments_lexer": "ipython3",
   "version": "3.6.4"
  }
 },
 "nbformat": 4,
 "nbformat_minor": 2
}
