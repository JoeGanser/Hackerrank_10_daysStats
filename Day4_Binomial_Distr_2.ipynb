{
 "cells": [
  {
   "cell_type": "code",
   "execution_count": 13,
   "metadata": {},
   "outputs": [
    {
     "name": "stdout",
     "output_type": "stream",
     "text": [
      "Probability Atleast 2:  0.342\n",
      "Probability Atmost 2:  0.891\n"
     ]
    },
    {
     "data": {
      "text/plain": [
       "(0.891, 0.342)"
      ]
     },
     "execution_count": 13,
     "metadata": {},
     "output_type": "execute_result"
    }
   ],
   "source": [
    "def bernoulli_trials_atmost_x(defective,n,x):\n",
    "    p = defective/100 # percent defective\n",
    "    def bernoulli_distribution(p,n,x):\n",
    "        def combinatoric(n,x):\n",
    "            def factorial(n):\n",
    "                if n == 0:\n",
    "                    return 1\n",
    "                else:\n",
    "                    return n * factorial(n-1)\n",
    "            top = factorial(n)\n",
    "            bottom = factorial(x) * factorial(n-x)\n",
    "            return top/bottom\n",
    "    \n",
    "        def binomial(p,n,x):\n",
    "            return (p**x)*(1-p)**(n-x)\n",
    "        return combinatoric(n,x)*binomial(p,n,x)\n",
    "    probabilities_atmost = []\n",
    "    for i in range(0,x+1):\n",
    "        probabilities_atmost.append(bernoulli_distribution(p,n,i))\n",
    "    atmost = round(sum(probabilities_atmost),3)\n",
    "    \n",
    "    probabilities_atleast = []\n",
    "    for i in range(x,n+1):\n",
    "        probabilities_atleast.append(bernoulli_distribution(p,n,i))\n",
    "    atleast = round(sum(probabilities_atleast),3)    \n",
    "    \n",
    "    print(\"Probability Atleast \"+str(x)+\": \",atleast)\n",
    "    print(\"Probability Atmost \"+str(x)+\": \",atmost)\n",
    "    return atmost, atleast\n",
    "\n",
    "bernoulli_trials_atmost_x(12,10,2)"
   ]
  },
  {
   "cell_type": "code",
   "execution_count": 16,
   "metadata": {},
   "outputs": [
    {
     "name": "stdout",
     "output_type": "stream",
     "text": [
      "12 10\n",
      "Probability Atleast 2:  0.342\n",
      "Probability Atmost 2:  0.891\n"
     ]
    },
    {
     "data": {
      "text/plain": [
       "(0.891, 0.342)"
      ]
     },
     "execution_count": 16,
     "metadata": {},
     "output_type": "execute_result"
    }
   ],
   "source": [
    "p, n = list(map(int, input().split(\" \")))\n",
    "bernoulli_trials_atmost_x(p,n,2)"
   ]
  },
  {
   "cell_type": "markdown",
   "metadata": {},
   "source": [
    "# "
   ]
  }
 ],
 "metadata": {
  "kernelspec": {
   "display_name": "Python 3",
   "language": "python",
   "name": "python3"
  },
  "language_info": {
   "codemirror_mode": {
    "name": "ipython",
    "version": 3
   },
   "file_extension": ".py",
   "mimetype": "text/x-python",
   "name": "python",
   "nbconvert_exporter": "python",
   "pygments_lexer": "ipython3",
   "version": "3.6.4"
  }
 },
 "nbformat": 4,
 "nbformat_minor": 2
}
