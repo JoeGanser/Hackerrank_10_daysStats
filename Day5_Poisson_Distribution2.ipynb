{
 "cells": [
  {
   "cell_type": "code",
   "execution_count": null,
   "metadata": {},
   "outputs": [],
   "source": [
    "\n",
    "\n",
    "N = list(map(float,input().split()))\n",
    "A,B = N[0],N[1]\n",
    "\n",
    "def expectation_value_poission(a):\n",
    "    return a + a**2\n",
    "\n",
    "print(160+40*(expectation_value_poission(A)))\n",
    "print(128+40*(expectation_value_poission(B)))\n",
    "\n"
   ]
  }
 ],
 "metadata": {
  "kernelspec": {
   "display_name": "Python 3",
   "language": "python",
   "name": "python3"
  },
  "language_info": {
   "codemirror_mode": {
    "name": "ipython",
    "version": 3
   },
   "file_extension": ".py",
   "mimetype": "text/x-python",
   "name": "python",
   "nbconvert_exporter": "python",
   "pygments_lexer": "ipython3",
   "version": "3.6.4"
  }
 },
 "nbformat": 4,
 "nbformat_minor": 2
}
