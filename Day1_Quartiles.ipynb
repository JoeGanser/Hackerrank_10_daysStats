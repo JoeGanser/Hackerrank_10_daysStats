{
 "cells": [
  {
   "cell_type": "code",
   "execution_count": null,
   "metadata": {},
   "outputs": [],
   "source": [
    "\n",
    "def median(x):\n",
    "    n = len(x)\n",
    "    if n%2==0:\n",
    "        m = (int(0.5*(x[int(n/2)-1] + x[int(n/2)])))\n",
    "    else:\n",
    "        for index,i in enumerate(x):\n",
    "            if len(x[:index])==len(x[index+1:]):\n",
    "                m = (int(x[index]))\n",
    "                break\n",
    "            else:\n",
    "                pass\n",
    "    return m\n",
    "\n",
    "N = int(input())\n",
    "X = sorted([int(x) for x in input().strip().split()])\n",
    "Q2 = median(X)\n",
    "\n",
    "if N%2==0:\n",
    "    first = X[:int((len(X)+1)/2)]\n",
    "    second = X[int((len(X)+1)/2):]\n",
    "    Q1 = median(first)\n",
    "    Q3 = median(second)\n",
    "        \n",
    "else:\n",
    "    for index,i in enumerate(X):\n",
    "        if len(X[:index])==len(X[index+1:]):\n",
    "            first = X[:index]\n",
    "            second = X[index+1:]\n",
    "            Q1 = median(first)\n",
    "            Q3 = median(second)\n",
    "            break\n",
    "        else:\n",
    "            pass\n",
    "print(Q1)\n",
    "print(Q2)\n",
    "print(Q3)"
   ]
  }
 ],
 "metadata": {
  "kernelspec": {
   "display_name": "Python 3",
   "language": "python",
   "name": "python3"
  },
  "language_info": {
   "codemirror_mode": {
    "name": "ipython",
    "version": 3
   },
   "file_extension": ".py",
   "mimetype": "text/x-python",
   "name": "python",
   "nbconvert_exporter": "python",
   "pygments_lexer": "ipython3",
   "version": "3.6.4"
  }
 },
 "nbformat": 4,
 "nbformat_minor": 2
}
