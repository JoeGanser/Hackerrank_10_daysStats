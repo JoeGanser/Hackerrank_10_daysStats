{
 "cells": [
  {
   "cell_type": "code",
   "execution_count": null,
   "metadata": {},
   "outputs": [],
   "source": [
    "n = int(input())\n",
    "data = list(map(int,input().split()))\n",
    "freq = list(map(int,input().split()))\n",
    "\n",
    "\n",
    "def make_master_list(l1,l2):\n",
    "    master_list_dict = {}\n",
    "    for index,i in enumerate(l1):\n",
    "        for INDEX,j in enumerate(l2):\n",
    "            if index==INDEX:\n",
    "                master_list_dict[i] = j\n",
    "            else:\n",
    "                pass\n",
    "    master = []\n",
    "    for i in master_list_dict.keys():\n",
    "        if len(list(str(i)))==1:\n",
    "            master.extend([float(k) for k in list(str(i)*int(master_list_dict[i]))])\n",
    "        else:\n",
    "            l = []\n",
    "            for number in range(int(master_list_dict[i])):\n",
    "                l.append(float(i))\n",
    "            master.extend(l)\n",
    "    return sorted(master)\n",
    "\n",
    "\n",
    "def median(x):\n",
    "    nn = len(x)\n",
    "    if nn%2==0:\n",
    "        m = (int(0.5*(x[int(nn/2)-1] + x[int(nn/2)])))\n",
    "    else:\n",
    "        for index,i in enumerate(x):\n",
    "            if len(x[:index])==len(x[index+1:]):\n",
    "                m = (int(x[index]))\n",
    "                break\n",
    "            else:\n",
    "                pass\n",
    "    return m\n",
    "\n",
    "def get_Q(x):\n",
    "    if len(x)%2!=0:\n",
    "        q1 = median(x[:len(x)//2])\n",
    "        q3 = median(x[len(x)//2+1:])\n",
    "    else:\n",
    "        q1 = median(x[:len(x)//2])\n",
    "        q3 = median(x[len(x)//2:])\n",
    "    return q3-q1\n",
    "\n",
    "def get_interquartile_range(l1,l2):\n",
    "    master_list = make_master_list(l1,l2)\n",
    "    r = float(get_Q(master_list))\n",
    "    print(r)\n",
    "    return r\n",
    "\n",
    "get_interquartile_range(data,freq)"
   ]
  }
 ],
 "metadata": {
  "kernelspec": {
   "display_name": "Python 3",
   "language": "python",
   "name": "python3"
  },
  "language_info": {
   "codemirror_mode": {
    "name": "ipython",
    "version": 3
   },
   "file_extension": ".py",
   "mimetype": "text/x-python",
   "name": "python",
   "nbconvert_exporter": "python",
   "pygments_lexer": "ipython3",
   "version": "3.6.4"
  }
 },
 "nbformat": 4,
 "nbformat_minor": 2
}
