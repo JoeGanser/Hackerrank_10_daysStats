{
 "cells": [
  {
   "cell_type": "code",
   "execution_count": null,
   "metadata": {},
   "outputs": [],
   "source": [
    "import numpy as np\n",
    "n,m = map(int,input().split())\n",
    "inputs = []\n",
    "for i in range(m):\n",
    "    inputs.append(list(map(float,input().split())))\n",
    "ones = np.array([[float(i) for i in list('1'*m)]])\n",
    "X = np.concatenate((ones.T,np.array([i[:-1] for i in inputs])),axis=1)\n",
    "y = np.array([[i[n] for i in inputs]]).T\n",
    "\n",
    "def matrix_B(X,y):\n",
    "    XTX = np.matmul(X.T,X)\n",
    "    XTX_1 = np.linalg.inv(XTX)\n",
    "    return np.matmul(np.matmul(XTX_1,X.T),y)\n",
    "\n",
    "B = matrix_B(X,y)\n",
    "\n",
    "\n",
    "M = int(input())\n",
    "tests = []\n",
    "for i in range(M):\n",
    "    tests.append(list(map(float,input().split())))\n",
    "    \n",
    "ones_test = np.array([[float(i) for i in list('1'*M)]])\n",
    "X_test = np.concatenate((ones_test.T,np.array(tests)),axis=1)\n",
    "\n",
    "for i in range(M):\n",
    "    print(np.matmul(X_test[i],B)[0])"
   ]
  }
 ],
 "metadata": {
  "kernelspec": {
   "display_name": "Python 3",
   "language": "python",
   "name": "python3"
  },
  "language_info": {
   "codemirror_mode": {
    "name": "ipython",
    "version": 3
   },
   "file_extension": ".py",
   "mimetype": "text/x-python",
   "name": "python",
   "nbconvert_exporter": "python",
   "pygments_lexer": "ipython3",
   "version": "3.6.4"
  }
 },
 "nbformat": 4,
 "nbformat_minor": 2
}
