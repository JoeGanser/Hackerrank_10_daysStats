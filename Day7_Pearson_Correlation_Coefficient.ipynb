{
 "cells": [
  {
   "cell_type": "code",
   "execution_count": null,
   "metadata": {},
   "outputs": [],
   "source": [
    "N = int(input())\n",
    "X = list(map(float,input().split()))\n",
    "Y = list(map(float,input().split()))\n",
    "\n",
    "def covariance(x,y):\n",
    "    if len(x)==len(y):\n",
    "        mean_x = sum(x)/len(x)\n",
    "        mean_y = sum(y)/len(y)\n",
    "        l = []\n",
    "        for index,i in enumerate(x):\n",
    "            l.append((x[index]-mean_x)*(y[index]-mean_y))\n",
    "        return sum(l)/len(x)\n",
    "    \n",
    "def variance(x):\n",
    "    l = []\n",
    "    mean_x = sum(x)/len(x)\n",
    "    for index,i in enumerate(x):\n",
    "        l.append((i-mean_x)**2)\n",
    "    return sum(l)/len(x)\n",
    "\n",
    "def pearson_coefficient(x,y):\n",
    "    return round(covariance(x,y)/(variance(x)*variance(y))**(1/2),3)\n",
    "\n",
    "print(pearson_coefficient(X,Y))"
   ]
  }
 ],
 "metadata": {
  "kernelspec": {
   "display_name": "Python 3",
   "language": "python",
   "name": "python3"
  },
  "language_info": {
   "codemirror_mode": {
    "name": "ipython",
    "version": 3
   },
   "file_extension": ".py",
   "mimetype": "text/x-python",
   "name": "python",
   "nbconvert_exporter": "python",
   "pygments_lexer": "ipython3",
   "version": "3.6.4"
  }
 },
 "nbformat": 4,
 "nbformat_minor": 2
}
